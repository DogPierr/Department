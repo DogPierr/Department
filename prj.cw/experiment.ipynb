{
 "cells": [
  {
   "cell_type": "code",
   "execution_count": 1,
   "metadata": {},
   "outputs": [],
   "source": [
    "import cv2\n",
    "import os\n",
    "import numpy as np"
   ]
  },
  {
   "cell_type": "code",
   "execution_count": 60,
   "metadata": {},
   "outputs": [],
   "source": [
    "\n",
    "def as_parallel_as_possible(curve, points):\n",
    "    n = len(curve)\n",
    "    I = np.eye(2*n)\n",
    "    P = []\n",
    "    for point in curve:\n",
    "        P.append(-point[0])\n",
    "        P.append(-point[1])\n",
    "    P = np.array(P).reshape((2*n, 1))\n",
    "    M = []\n",
    "    M.append(points[1][0] - points[0][0])\n",
    "    M.append(points[1][1] - points[0][1])\n",
    "    M = np.array(M).reshape((2, 1))\n",
    "    A = []\n",
    "    A.append([(i+1)%2 for i in range(2*n)])\n",
    "    A.append([i%2 for i in range(2*n)])\n",
    "    A = np.array(A)\n",
    "    print(I, np.transpose(A), P, M, sep='\\n')\n",
    "    X = (-I + np.transpose(A) @ A / n) @ P + np.transpose(A) @ M / n\n",
    "    result = []\n",
    "    for i in range(n):\n",
    "        result.append([X[2*i].item(), X[2*i+1].item()])\n",
    "    diff = [points[0][0] - result[0][0] , points[0][1] - result[0][1]]\n",
    "    print(len(result))\n",
    "    for i in range(len(result)):\n",
    "        result[i] = [result[i][0] + diff[0], result[i][1] + diff[1]]\n",
    "    return result"
   ]
  },
  {
   "cell_type": "code",
   "execution_count": 50,
   "metadata": {},
   "outputs": [],
   "source": [
    "curve = [\n",
    "    [100, 100],\n",
    "    [200, 200],\n",
    "    [200, 300],\n",
    "]\n",
    "points = [\n",
    "    [125, 70],\n",
    "    [300, 300]\n",
    "]"
   ]
  },
  {
   "cell_type": "code",
   "execution_count": 61,
   "metadata": {},
   "outputs": [
    {
     "name": "stdout",
     "output_type": "stream",
     "text": [
      "[[1. 0. 0. 0. 0. 0.]\n",
      " [0. 1. 0. 0. 0. 0.]\n",
      " [0. 0. 1. 0. 0. 0.]\n",
      " [0. 0. 0. 1. 0. 0.]\n",
      " [0. 0. 0. 0. 1. 0.]\n",
      " [0. 0. 0. 0. 0. 1.]]\n",
      "[[1 0]\n",
      " [0 1]\n",
      " [1 0]\n",
      " [0 1]\n",
      " [1 0]\n",
      " [0 1]]\n",
      "[[-100]\n",
      " [-100]\n",
      " [-200]\n",
      " [-200]\n",
      " [-200]\n",
      " [-300]]\n",
      "[[175]\n",
      " [230]]\n",
      "3\n",
      "[[125.0, 70.0], [225.0, 170.0], [225.0, 270.0]]\n",
      "[125, 70]\n",
      "[225, 170]\n"
     ]
    }
   ],
   "source": [
    "size = (500, 500)\n",
    "\n",
    "image = np.zeros(size, dtype=np.int8)\n",
    "\n",
    "for i in range(len(curve) - 1):\n",
    "    cv2.line(image, curve[i], curve[i+1], (255, 0, 0), 3)\n",
    "\n",
    "res = as_parallel_as_possible(curve, points)\n",
    "print(res)\n",
    "for i in range(len(res) - 1):\n",
    "    print([int(a) for a in res[i]])\n",
    "    cv2.line(image, [int(a) for a in res[i]] , [int(a) for a in res[i + 1]], (255, 0, 0), 3)\n",
    "    # cv2.line(image, res[i] , res[i + 1], (255, 0, 0), 3)\n",
    "\n",
    "cv2.imshow('Image with Lines', image)\n",
    "cv2.waitKey(0)\n",
    "cv2.destroyAllWindows()"
   ]
  }
 ],
 "metadata": {
  "kernelspec": {
   "display_name": "Python 3",
   "language": "python",
   "name": "python3"
  },
  "language_info": {
   "codemirror_mode": {
    "name": "ipython",
    "version": 3
   },
   "file_extension": ".py",
   "mimetype": "text/x-python",
   "name": "python",
   "nbconvert_exporter": "python",
   "pygments_lexer": "ipython3",
   "version": "3.12.2"
  }
 },
 "nbformat": 4,
 "nbformat_minor": 2
}
